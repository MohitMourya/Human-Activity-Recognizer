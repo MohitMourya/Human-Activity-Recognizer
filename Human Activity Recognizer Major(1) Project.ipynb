{
 "cells": [
  {
   "cell_type": "code",
   "execution_count": 1,
   "metadata": {},
   "outputs": [],
   "source": [
    "import pandas as pd\n",
    "import numpy as np\n",
    "import pickle\n",
    "from scipy import stats\n",
    "import tensorflow as tf\n",
    "from sklearn import metrics\n",
    "from sklearn.model_selection import train_test_split\n",
    "RANDOM_SEED = 42"
   ]
  },
  {
   "cell_type": "code",
   "execution_count": 25,
   "metadata": {},
   "outputs": [],
   "source": [
    "import warnings\n",
    "warnings.filterwarnings('ignore')"
   ]
  },
  {
   "cell_type": "code",
   "execution_count": 2,
   "metadata": {},
   "outputs": [],
   "source": [
    "columns = ['user','activity','timestamp', 'x-axis', 'y-axis', 'z-axis']\n",
    "df = pd.read_csv('data/WISDM_ar_v1.1_raw.txt', header = None, names = columns)\n",
    "df = df.dropna()"
   ]
  },
  {
   "cell_type": "code",
   "execution_count": 3,
   "metadata": {},
   "outputs": [
    {
     "data": {
      "text/html": [
       "<div>\n",
       "<style scoped>\n",
       "    .dataframe tbody tr th:only-of-type {\n",
       "        vertical-align: middle;\n",
       "    }\n",
       "\n",
       "    .dataframe tbody tr th {\n",
       "        vertical-align: top;\n",
       "    }\n",
       "\n",
       "    .dataframe thead th {\n",
       "        text-align: right;\n",
       "    }\n",
       "</style>\n",
       "<table border=\"1\" class=\"dataframe\">\n",
       "  <thead>\n",
       "    <tr style=\"text-align: right;\">\n",
       "      <th></th>\n",
       "      <th>user</th>\n",
       "      <th>activity</th>\n",
       "      <th>timestamp</th>\n",
       "      <th>x-axis</th>\n",
       "      <th>y-axis</th>\n",
       "      <th>z-axis</th>\n",
       "    </tr>\n",
       "  </thead>\n",
       "  <tbody>\n",
       "    <tr>\n",
       "      <th>0</th>\n",
       "      <td>33</td>\n",
       "      <td>Jogging</td>\n",
       "      <td>49105962326000</td>\n",
       "      <td>-0.694638</td>\n",
       "      <td>12.680544</td>\n",
       "      <td>0.503953</td>\n",
       "    </tr>\n",
       "    <tr>\n",
       "      <th>1</th>\n",
       "      <td>33</td>\n",
       "      <td>Jogging</td>\n",
       "      <td>49106062271000</td>\n",
       "      <td>5.012288</td>\n",
       "      <td>11.264028</td>\n",
       "      <td>0.953424</td>\n",
       "    </tr>\n",
       "    <tr>\n",
       "      <th>2</th>\n",
       "      <td>33</td>\n",
       "      <td>Jogging</td>\n",
       "      <td>49106112167000</td>\n",
       "      <td>4.903325</td>\n",
       "      <td>10.882658</td>\n",
       "      <td>-0.081722</td>\n",
       "    </tr>\n",
       "    <tr>\n",
       "      <th>3</th>\n",
       "      <td>33</td>\n",
       "      <td>Jogging</td>\n",
       "      <td>49106222305000</td>\n",
       "      <td>-0.612916</td>\n",
       "      <td>18.496431</td>\n",
       "      <td>3.023717</td>\n",
       "    </tr>\n",
       "    <tr>\n",
       "      <th>4</th>\n",
       "      <td>33</td>\n",
       "      <td>Jogging</td>\n",
       "      <td>49106332290000</td>\n",
       "      <td>-1.184970</td>\n",
       "      <td>12.108489</td>\n",
       "      <td>7.205164</td>\n",
       "    </tr>\n",
       "  </tbody>\n",
       "</table>\n",
       "</div>"
      ],
      "text/plain": [
       "   user activity       timestamp    x-axis     y-axis    z-axis\n",
       "0    33  Jogging  49105962326000 -0.694638  12.680544  0.503953\n",
       "1    33  Jogging  49106062271000  5.012288  11.264028  0.953424\n",
       "2    33  Jogging  49106112167000  4.903325  10.882658 -0.081722\n",
       "3    33  Jogging  49106222305000 -0.612916  18.496431  3.023717\n",
       "4    33  Jogging  49106332290000 -1.184970  12.108489  7.205164"
      ]
     },
     "execution_count": 3,
     "metadata": {},
     "output_type": "execute_result"
    }
   ],
   "source": [
    "df.head()"
   ]
  },
  {
   "cell_type": "code",
   "execution_count": 4,
   "metadata": {},
   "outputs": [
    {
     "data": {
      "text/plain": [
       "49105962326000"
      ]
     },
     "execution_count": 4,
     "metadata": {},
     "output_type": "execute_result"
    }
   ],
   "source": [
    "df['timestamp'][0]"
   ]
  },
  {
   "cell_type": "code",
   "execution_count": 5,
   "metadata": {},
   "outputs": [
    {
     "data": {
      "text/plain": [
       "49126972305000"
      ]
     },
     "execution_count": 5,
     "metadata": {},
     "output_type": "execute_result"
    }
   ],
   "source": [
    "df['timestamp'][200]"
   ]
  },
  {
   "cell_type": "code",
   "execution_count": 6,
   "metadata": {},
   "outputs": [],
   "source": [
    "import datetime"
   ]
  },
  {
   "cell_type": "code",
   "execution_count": null,
   "metadata": {},
   "outputs": [],
   "source": []
  },
  {
   "cell_type": "code",
   "execution_count": 7,
   "metadata": {},
   "outputs": [
    {
     "name": "stdout",
     "output_type": "stream",
     "text": [
      "<class 'pandas.core.frame.DataFrame'>\n",
      "Int64Index: 1098203 entries, 0 to 1098203\n",
      "Data columns (total 6 columns):\n",
      "user         1098203 non-null int64\n",
      "activity     1098203 non-null object\n",
      "timestamp    1098203 non-null int64\n",
      "x-axis       1098203 non-null float64\n",
      "y-axis       1098203 non-null float64\n",
      "z-axis       1098203 non-null float64\n",
      "dtypes: float64(3), int64(2), object(1)\n",
      "memory usage: 58.7+ MB\n"
     ]
    }
   ],
   "source": [
    "df.info()"
   ]
  },
  {
   "cell_type": "code",
   "execution_count": 8,
   "metadata": {},
   "outputs": [],
   "source": [
    "N_TIME_STEPS = 200\n",
    "N_FEATURES = 3\n",
    "step = 20\n",
    "segments = []\n",
    "labels = []\n",
    "for i in range(0, len(df) - N_TIME_STEPS, step):\n",
    "    xs = df['x-axis'].values[i: i + N_TIME_STEPS]\n",
    "    ys = df['y-axis'].values[i: i + N_TIME_STEPS]\n",
    "    zs = df['z-axis'].values[i: i + N_TIME_STEPS]\n",
    "    label = stats.mode(df['activity'][i: i + N_TIME_STEPS])[0][0]\n",
    "    segments.append([xs, ys, zs])\n",
    "    labels.append(label)"
   ]
  },
  {
   "cell_type": "code",
   "execution_count": 9,
   "metadata": {},
   "outputs": [
    {
     "data": {
      "text/plain": [
       "(54901, 3, 200)"
      ]
     },
     "execution_count": 9,
     "metadata": {},
     "output_type": "execute_result"
    }
   ],
   "source": [
    "np.array(segments).shape"
   ]
  },
  {
   "cell_type": "code",
   "execution_count": 10,
   "metadata": {},
   "outputs": [],
   "source": [
    "reshaped_segments = np.asarray(segments, dtype= np.float32).reshape(-1, N_TIME_STEPS, N_FEATURES)\n",
    "labels = np.asarray(pd.get_dummies(labels), dtype = np.float32)"
   ]
  },
  {
   "cell_type": "code",
   "execution_count": 11,
   "metadata": {
    "scrolled": true
   },
   "outputs": [
    {
     "data": {
      "text/plain": [
       "(54901, 200, 3)"
      ]
     },
     "execution_count": 11,
     "metadata": {},
     "output_type": "execute_result"
    }
   ],
   "source": [
    "reshaped_segments.shape"
   ]
  },
  {
   "cell_type": "code",
   "execution_count": 12,
   "metadata": {},
   "outputs": [
    {
     "data": {
      "text/plain": [
       "array([0., 1., 0., 0., 0., 0.], dtype=float32)"
      ]
     },
     "execution_count": 12,
     "metadata": {},
     "output_type": "execute_result"
    }
   ],
   "source": [
    "labels[0]"
   ]
  },
  {
   "cell_type": "code",
   "execution_count": 13,
   "metadata": {},
   "outputs": [],
   "source": [
    "X_train, X_test, y_train, y_test = train_test_split(\n",
    "        reshaped_segments, labels, test_size=0.2, random_state=RANDOM_SEED)"
   ]
  },
  {
   "cell_type": "code",
   "execution_count": 14,
   "metadata": {},
   "outputs": [
    {
     "data": {
      "text/plain": [
       "43920"
      ]
     },
     "execution_count": 14,
     "metadata": {},
     "output_type": "execute_result"
    }
   ],
   "source": [
    "len(X_train)"
   ]
  },
  {
   "cell_type": "code",
   "execution_count": 15,
   "metadata": {},
   "outputs": [
    {
     "data": {
      "text/plain": [
       "10981"
      ]
     },
     "execution_count": 15,
     "metadata": {},
     "output_type": "execute_result"
    }
   ],
   "source": [
    "len(X_test)"
   ]
  },
  {
   "cell_type": "code",
   "execution_count": 16,
   "metadata": {},
   "outputs": [],
   "source": [
    "N_CLASSES = 6\n",
    "N_HIDDEN_UNITS = 64"
   ]
  },
  {
   "cell_type": "code",
   "execution_count": 17,
   "metadata": {},
   "outputs": [],
   "source": [
    "def create_LSTM_model(inputs):\n",
    "    W = {\n",
    "        'hidden': tf.Variable(tf.random_normal([N_FEATURES, N_HIDDEN_UNITS])),\n",
    "        'output': tf.Variable(tf.random_normal([N_HIDDEN_UNITS, N_CLASSES]))\n",
    "    }\n",
    "    biases = {\n",
    "        'hidden': tf.Variable(tf.random_normal([N_HIDDEN_UNITS], mean=1.0)),\n",
    "        'output': tf.Variable(tf.random_normal([N_CLASSES]))\n",
    "    }\n",
    "    \n",
    "    X = tf.transpose(inputs, [1, 0, 2])\n",
    "    X = tf.reshape(X, [-1, N_FEATURES])\n",
    "    hidden = tf.nn.relu(tf.matmul(X, W['hidden']) + biases['hidden'])\n",
    "    hidden = tf.split(hidden, N_TIME_STEPS, 0)\n",
    "\n",
    "    lstm_layers = [tf.contrib.rnn.BasicLSTMCell(N_HIDDEN_UNITS, forget_bias=1.0) for _ in range(2)]\n",
    "    lstm_layers = tf.contrib.rnn.MultiRNNCell(lstm_layers)\n",
    "\n",
    "    outputs, _ = tf.contrib.rnn.static_rnn(lstm_layers, hidden, dtype=tf.float32)\n",
    "\n",
    "    lstm_last_output = outputs[-1]\n",
    "\n",
    "    return tf.matmul(lstm_last_output, W['output']) + biases['output']"
   ]
  },
  {
   "cell_type": "code",
   "execution_count": 26,
   "metadata": {},
   "outputs": [],
   "source": [
    "tf.reset_default_graph()\n",
    "\n",
    "X = tf.placeholder(tf.float32, [None, N_TIME_STEPS, N_FEATURES], name=\"input\")\n",
    "Y = tf.placeholder(tf.float32, [None, N_CLASSES])"
   ]
  },
  {
   "cell_type": "code",
   "execution_count": 27,
   "metadata": {},
   "outputs": [],
   "source": [
    "pred_Y = create_LSTM_model(X)\n",
    "\n",
    "pred_softmax = tf.nn.softmax(pred_Y, name=\"y_\")"
   ]
  },
  {
   "cell_type": "code",
   "execution_count": 28,
   "metadata": {},
   "outputs": [],
   "source": [
    "L2_LOSS = 0.0015\n",
    "\n",
    "l2 = L2_LOSS * \\\n",
    "    sum(tf.nn.l2_loss(tf_var) for tf_var in tf.trainable_variables())\n",
    "\n",
    "loss = tf.reduce_mean(tf.nn.softmax_cross_entropy_with_logits(logits = pred_Y, labels = Y)) + l2"
   ]
  },
  {
   "cell_type": "code",
   "execution_count": 29,
   "metadata": {},
   "outputs": [],
   "source": [
    "LEARNING_RATE = 0.0025\n",
    "\n",
    "optimizer = tf.train.AdamOptimizer(learning_rate=LEARNING_RATE).minimize(loss)\n",
    "\n",
    "correct_pred = tf.equal(tf.argmax(pred_softmax, 1), tf.argmax(Y, 1))\n",
    "accuracy = tf.reduce_mean(tf.cast(correct_pred, dtype=tf.float32))"
   ]
  },
  {
   "cell_type": "code",
   "execution_count": 30,
   "metadata": {},
   "outputs": [],
   "source": [
    "N_EPOCHS = 50\n",
    "BATCH_SIZE = 1024"
   ]
  },
  {
   "cell_type": "code",
   "execution_count": null,
   "metadata": {},
   "outputs": [],
   "source": [
    "saver = tf.train.Saver()\n",
    "\n",
    "history = dict(train_loss=[], \n",
    "                     train_acc=[], \n",
    "                     test_loss=[], \n",
    "                     test_acc=[])\n",
    "\n",
    "sess=tf.InteractiveSession()\n",
    "sess.run(tf.global_variables_initializer())\n",
    "\n",
    "train_count = len(X_train)\n",
    "\n",
    "for i in range(1, N_EPOCHS + 1):\n",
    "    for start, end in zip(range(0, train_count, BATCH_SIZE),\n",
    "                          range(BATCH_SIZE, train_count + 1,BATCH_SIZE)):\n",
    "        sess.run(optimizer, feed_dict={X: X_train[start:end],\n",
    "                                       Y: y_train[start:end]})\n",
    "\n",
    "    _, acc_train, loss_train = sess.run([pred_softmax, accuracy, loss], feed_dict={\n",
    "                                            X: X_train, Y: y_train})\n",
    "\n",
    "    _, acc_test, loss_test = sess.run([pred_softmax, accuracy, loss], feed_dict={\n",
    "                                            X: X_test, Y: y_test})\n",
    "\n",
    "    history['train_loss'].append(loss_train)\n",
    "    history['train_acc'].append(acc_train)\n",
    "    history['test_loss'].append(loss_test)\n",
    "    history['test_acc'].append(acc_test)\n",
    "\n",
    "    if i != 1 and i % 10 != 0:\n",
    "        continue\n",
    "\n",
    "    print(f'epoch: {i} test accuracy: {acc_test} loss: {loss_test}')\n",
    "    \n",
    "predictions, acc_final, loss_final = sess.run([pred_softmax, accuracy, loss], feed_dict={X: X_test, Y: y_test})\n",
    "\n",
    "print()\n",
    "print(f'final results: accuracy: {acc_final} loss: {loss_final}')"
   ]
  },
  {
   "cell_type": "code",
   "execution_count": null,
   "metadata": {},
   "outputs": [],
   "source": [
    "pickle.dump(predictions, open(\"predictions.p\", \"wb\"))\n",
    "pickle.dump(history, open(\"history.p\", \"wb\"))\n",
    "tf.train.write_graph(sess.graph_def, '.', './checkpoint/har.pbtxt')  \n",
    "saver.save(sess, save_path = \"./checkpoint/har.ckpt\")\n",
    "sess.close()"
   ]
  },
  {
   "cell_type": "code",
   "execution_count": null,
   "metadata": {},
   "outputs": [],
   "source": [
    "history = pickle.load(open(\"history.p\", \"rb\"))\n",
    "predictions = pickle.load(open(\"predictions.p\", \"rb\"))"
   ]
  },
  {
   "cell_type": "code",
   "execution_count": null,
   "metadata": {},
   "outputs": [],
   "source": [
    "LABELS = ['Downstairs', 'Jogging', 'Sitting', 'Standing', 'Upstairs', 'Walking']"
   ]
  },
  {
   "cell_type": "code",
   "execution_count": null,
   "metadata": {},
   "outputs": [],
   "source": [
    "from tensorflow.python.tools import freeze_graph\n",
    "\n",
    "MODEL_NAME = 'har'\n",
    "\n",
    "input_graph_path = 'checkpoint/' + MODEL_NAME+'.pbtxt'\n",
    "checkpoint_path = './checkpoint/' +MODEL_NAME+'.ckpt'\n",
    "restore_op_name = \"save/restore_all\"\n",
    "filename_tensor_name = \"save/Const:0\"\n",
    "output_frozen_graph_name = 'frozen_'+MODEL_NAME+'.pb'\n",
    "\n",
    "freeze_graph.freeze_graph(input_graph_path, input_saver=\"\",\n",
    "                          input_binary=False, input_checkpoint=checkpoint_path, \n",
    "                          output_node_names=\"y_\", restore_op_name=\"save/restore_all\",\n",
    "                          filename_tensor_name=\"save/Const:0\", \n",
    "                          output_graph=output_frozen_graph_name, clear_devices=True, initializer_nodes=\"\")"
   ]
  },
  {
   "cell_type": "code",
   "execution_count": null,
   "metadata": {},
   "outputs": [],
   "source": []
  },
  {
   "cell_type": "code",
   "execution_count": 18,
   "metadata": {},
   "outputs": [],
   "source": [
    "frozen_graph = \"./frozen_har.pb\"\n",
    "with tf.gfile.GFile(frozen_graph, \"rb\") as f:\n",
    "    restored_graph_def = tf.GraphDef()\n",
    "    restored_graph_def.ParseFromString(f.read())"
   ]
  },
  {
   "cell_type": "code",
   "execution_count": 19,
   "metadata": {},
   "outputs": [],
   "source": [
    "with tf.Graph().as_default() as graph:\n",
    "    tf.import_graph_def(\n",
    "    restored_graph_def,\n",
    "    input_map=None,\n",
    "    return_elements=None,\n",
    "    name=\"\"\n",
    "    )"
   ]
  },
  {
   "cell_type": "code",
   "execution_count": 56,
   "metadata": {},
   "outputs": [
    {
     "name": "stdout",
     "output_type": "stream",
     "text": [
      "[[0.74011135 0.00457557 0.00290634 0.0041967  0.2425842  0.00562574]]\n"
     ]
    }
   ],
   "source": [
    "y_ = graph.get_tensor_by_name(\"y_:0\")\n",
    "input = graph.get_tensor_by_name(\"input:0\")\n",
    "sess = tf.Session(graph=graph)\n",
    "feed_input = {input:out}\n",
    "result = sess.run(y_, feed_dict=feed_input)\n",
    "print(result)"
   ]
  },
  {
   "cell_type": "code",
   "execution_count": 62,
   "metadata": {},
   "outputs": [],
   "source": [
    "result = list(result[0])"
   ]
  },
  {
   "cell_type": "code",
   "execution_count": 63,
   "metadata": {},
   "outputs": [
    {
     "name": "stdout",
     "output_type": "stream",
     "text": [
      "[0.74011135, 0.004575569, 0.0029063362, 0.0041967044, 0.2425842, 0.0056257388]\n"
     ]
    }
   ],
   "source": [
    "print(result)"
   ]
  },
  {
   "cell_type": "code",
   "execution_count": 65,
   "metadata": {},
   "outputs": [
    {
     "data": {
      "text/plain": [
       "0"
      ]
     },
     "execution_count": 65,
     "metadata": {},
     "output_type": "execute_result"
    }
   ],
   "source": [
    "result.index(max(result))"
   ]
  },
  {
   "cell_type": "code",
   "execution_count": 41,
   "metadata": {},
   "outputs": [],
   "source": [
    "inputs_batch = [[ 0.043095629662275314, 2.5282769203186035, 9.437943458557129],[ 0.05267243832349777, 2.6001031398773193, 9.490615844726562],[ 0.05267243832349777, 2.561795711517334, 9.409213066101074],[ 0.08140286058187485, 2.6240451335906982, 9.390059471130371],[ 0.05267243832349777, 2.6431987285614014, 9.332598686218262],[ 0.038307227194309235, 2.557007312774658, 9.418789863586426],[ 0.05746084079146385, 2.6001031398773193, 9.437943458557129],[ 0.028730420395731926, 2.5330653190612793, 9.452308654785156],[ -0.07182604819536209, 2.5905263423919678, 9.385271072387695],[ 0.08140286058187485, 2.5761611461639404, 9.366117477416992],[ 0.047884032130241394, 2.5761611461639404, 9.476250648498535],[ 0.07182604819536209, 2.5761611461639404, 9.433155059814453],[ 0.023942016065120697, 2.5905263423919678, 9.351752281188965],[ 0.043095629662275314, 2.5713725090026855, 9.361329078674316],[ 0.014365210197865963, 2.609679937362671, 9.442731857299805],[ 0.05267243832349777, 2.585737943649292, 9.399636268615723],[ 0.11013327538967133, 2.5713725090026855, 9.428366661071777],[ 0.033518824726343155, 2.604891538619995, 9.433155059814453],[ 0.08619125932455063, 2.5953147411346436, 9.404424667358398],[ 0, 2.604891538619995, 9.385271072387695],[ 0.08140286058187485, 2.561795711517334, 9.308655738830566],[ 0.07182604819536209, 2.585737943649292, 9.375694274902344],[ 0.08619125932455063, 2.5474305152893066, 9.457097053527832],[ 0.05267243832349777, 2.5953147411346436, 9.375694274902344],[ 0.033518824726343155, 2.5761611461639404, 9.41400146484375],[ 0.07182604819536209, 2.585737943649292, 9.318233489990234],[ 0.028730420395731926, 2.585737943649292, 9.452308654785156],[ 0.090979665517807, 2.628833532333374, 9.409213066101074],[ 0.038307227194309235, 2.5522189140319824, 9.433155059814453],[ 0.05746084079146385, 2.557007312774658, 9.370905876159668],[ 0.1149216815829277, 2.5953147411346436, 9.437943458557129],[ 0.033518824726343155, 2.6001031398773193, 9.452308654785156],[ 0.08619125932455063, 2.5713725090026855, 9.346963882446289],[ 0.05267243832349777, 2.5953147411346436, 9.390059471130371],[ 0.05267243832349777, 2.6001031398773193, 9.433155059814453],[ 0.019153613597154617, 2.6240451335906982, 9.404424667358398],[ 0.05267243832349777, 2.6001031398773193, 9.514557838439941],[ 0.06224924325942993, 2.5905263423919678, 9.375694274902344],[ 0.05746084079146385, 2.557007312774658, 9.399636268615723],[ 0.038307227194309235, 2.63362193107605, 9.38048267364502],[ 0.023942016065120697, 2.5953147411346436, 9.495404243469238],[ 0.033518824726343155, 2.604891538619995, 9.394847869873047],[ 0.07661445438861847, 2.6192567348480225, 9.289502143859863],[ 0.06703764945268631, 2.6384103298187256, 9.418789863586426],[ 0.019153613597154617, 2.561795711517334, 9.41400146484375],[ 0.019153613597154617, 2.585737943649292, 9.41400146484375],[ 0.043095629662275314, 2.6144683361053467, 9.437943458557129],[ 0.043095629662275314, 2.5953147411346436, 9.370905876159668],[ 0.028730420395731926, 2.585737943649292, 9.318233489990234],[ 0.05267243832349777, 2.6001031398773193, 9.390059471130371],[ 0.019153613597154617, 2.5713725090026855, 9.332598686218262],[ 0.09576806426048279, 2.6384103298187256, 9.337387084960938],[ 0.07182604819536209, 2.609679937362671, 9.38048267364502],[ 0.014365210197865963, 2.432508945465088, 9.485827445983887],[ -0.004788403399288654, 2.6192567348480225, 9.442731857299805],[ 0.05746084079146385, 2.5761611461639404, 9.370905876159668],[ 0.033518824726343155, 2.5522189140319824, 9.38048267364502],[ 0.05746084079146385, 2.5953147411346436, 9.385271072387695],[ 0.08140286058187485, 2.6240451335906982, 9.275136947631836],[ 0.06703764945268631, 2.5713725090026855, 9.44752025604248],[ 0.05746084079146385, 2.609679937362671, 9.418789863586426],[ 0.10534487664699554, 2.5953147411346436, 9.457097053527832],[ 0.09576806426048279, 2.5713725090026855, 9.41400146484375],[ 0.08140286058187485, 2.561795711517334, 9.294290542602539],[ 0.1149216815829277, 2.604891538619995, 9.734824180603027],[ 0.014365210197865963, 2.5091233253479004, 9.481039047241211],[ 0.06703764945268631, 2.537853717803955, 9.394847869873047],[ 0.05267243832349777, 2.647987127304077, 9.337387084960938],[ 0.08140286058187485, 2.6192567348480225, 9.433155059814453],[ 0.090979665517807, 2.604891538619995, 9.390059471130371],[ 0.05746084079146385, 2.5665841102600098, 9.399636268615723],[ 0.1149216815829277, 2.5043349266052246, 9.308655738830566],[ 0.023942016065120697, 2.5474305152893066, 9.385271072387695],[ 0.06703764945268631, 2.5522189140319824, 9.361329078674316],[ 0.023942016065120697, 2.628833532333374, 9.289502143859863],[ 0.13407529890537262, 2.7437551021575928, 9.299078941345215],[ 0.038307227194309235, 2.6144683361053467, 9.428366661071777],[ 0.09576806426048279, 2.5713725090026855, 9.375694274902344],[ 0.07182604819536209, 2.518700122833252, 9.255983352661133],[ 0.08140286058187485, 2.5091233253479004, 9.677363395690918],[ 0.043095629662275314, 2.499546527862549, 9.409213066101074],[ 0.11013327538967133, 2.561795711517334, 9.366117477416992],[ 0.033518824726343155, 2.5474305152893066, 9.38048267364502],[ 0.033518824726343155, 2.604891538619995, 9.327810287475586],[ 0.06224924325942993, 2.604891538619995, 9.41400146484375],[ 0.06224924325942993, 2.5474305152893066, 9.32302188873291],[ 0.10534487664699554, 2.557007312774658, 9.38048267364502],[ 0.12928688526153564, 2.5761611461639404, 9.375694274902344],[ 0.05746084079146385, 2.5665841102600098, 9.409213066101074],[ 0.028730420395731926, 2.557007312774658, 9.375694274902344],[ 0.06224924325942993, 2.5761611461639404, 9.390059471130371],[ 0.07661445438861847, 2.604891538619995, 9.308655738830566],[ 0.08619125932455063, 2.5665841102600098, 9.299078941345215],[ 0.038307227194309235, 2.542642116546631, 9.433155059814453],[ 0.08140286058187485, 2.6144683361053467, 9.452308654785156],[ 0.033518824726343155, 2.580949544906616, 9.409213066101074],[ 0.08140286058187485, 2.6001031398773193, 9.332598686218262],[ 0.038307227194309235, 2.6431987285614014, 9.370905876159668],[ 0.08140286058187485, 2.63362193107605, 9.366117477416992],[ 0.038307227194309235, 2.5330653190612793, 9.346963882446289],[ 0.06703764945268631, 2.5665841102600098, 9.32302188873291],[ 0.038307227194309235, 2.5665841102600098, 9.437943458557129],[ 0.10534487664699554, 2.6144683361053467, 9.346963882446289],[ 0.05746084079146385, 2.6144683361053467, 9.423578262329102],[ 0.023942016065120697, 2.557007312774658, 9.409213066101074],[ 0.090979665517807, 2.5665841102600098, 9.404424667358398],[ 0.014365210197865963, 2.585737943649292, 9.533711433410645],[ 0.05267243832349777, 2.6431987285614014, 9.394847869873047],[ 0.028730420395731926, 2.585737943649292, 9.409213066101074],[ 0.014365210197865963, 2.5761611461639404, 9.437943458557129],[ 0.1149216815829277, 2.5761611461639404, 9.47146224975586],[ 0.033518824726343155, 2.652775526046753, 8.978256225585938],[ 0.043095629662275314, 2.6384103298187256, 9.461885452270508],[ 0.06703764945268631, 2.5953147411346436, 9.332598686218262],[ 0.24420857429504395, 2.6575639247894287, 9.773131370544434],[ -0.038307227194309235, 2.4803929328918457, 9.677363395690918],[ -0.023942016065120697, 2.671929121017456, 9.409213066101074],[ 0.05746084079146385, 2.6001031398773193, 9.289502143859863],[ 0.12449848651885986, 2.5953147411346436, 9.346963882446289],[ 0.16759411990642548, 2.604891538619995, 9.466673851013184],[ 0.06224924325942993, 2.5330653190612793, 9.361329078674316],[ 0.090979665517807, 2.6815059185028076, 9.57201862335205],[ 0.07182604819536209, 2.6384103298187256, 9.44752025604248],[ 0.181959331035614, 2.580949544906616, 9.476250648498535],[ 0.038307227194309235, 2.580949544906616, 9.370905876159668],[ 0.05746084079146385, 2.557007312774658, 9.327810287475586],[ 0.06703764945268631, 2.557007312774658, 9.428366661071777],[ 0.07182604819536209, 2.6623523235321045, 9.648633003234863],[ 0.05746084079146385, 2.580949544906616, 9.399636268615723],[ 0.05267243832349777, 2.537853717803955, 9.44752025604248],[ 0.10055647045373917, 2.5330653190612793, 9.370905876159668],[ 0.009576806798577309, 2.403778553009033, 9.519346237182617],[ -0.014365210197865963, 2.6431987285614014, 9.232041358947754],[ 0.033518824726343155, 2.6001031398773193, 9.32302188873291],[ 0.06703764945268631, 2.609679937362671, 9.35654067993164],[ -0.06224924325942993, 2.604891538619995, 9.265560150146484],[ 0.033518824726343155, 2.557007312774658, 9.586383819580078],[ 0.10534487664699554, 2.557007312774658, 9.41400146484375],[ 0.08140286058187485, 2.5905263423919678, 9.47146224975586],[ -0.10534487664699554, 2.6192567348480225, 9.275136947631836],[ 0.05267243832349777, 2.609679937362671, 9.485827445983887],[ 0.047884032130241394, 2.7964274883270264, 9.409213066101074],[ 0.12449848651885986, 2.671929121017456, 9.38048267364502],[ 0.10055647045373917, 2.604891538619995, 9.481039047241211],[ 0.023942016065120697, 2.6144683361053467, 9.361329078674316],[ 0.090979665517807, 2.5522189140319824, 9.222464561462402],[ 0.07661445438861847, 2.5474305152893066, 9.428366661071777],[ 0.10055647045373917, 2.6384103298187256, 9.394847869873047],[ 0.05746084079146385, 2.585737943649292, 9.385271072387695],[ 0.14365209639072418, 2.6001031398773193, 9.32302188873291],[ 0.19632454216480255, 2.719813108444214, 9.47146224975586],[ 0.033518824726343155, 2.561795711517334, 9.423578262329102],[ 0.1388636976480484, 2.580949544906616, 9.351752281188965],[ -0.090979665517807, 2.5091233253479004, 8.939949035644531],[ 0.07661445438861847, 2.609679937362671, 9.543288230895996],[ 0.1149216815829277, 2.5953147411346436, 9.452308654785156],[ 0.05267243832349777, 2.6431987285614014, 9.437943458557129],[ 0.028730420395731926, 2.609679937362671, 9.318233489990234],[ 0.10055647045373917, 2.585737943649292, 9.35654067993164],[ 0.033518824726343155, 2.6240451335906982, 9.423578262329102],[ 0.047884032130241394, 2.5330653190612793, 9.332598686218262],[ 0.05267243832349777, 2.557007312774658, 9.44752025604248],[ 0, 2.5665841102600098, 9.255983352661133],[ 0.009576806798577309, 2.561795711517334, 9.265560150146484],[ 0.11971008777618408, 2.5713725090026855, 9.466673851013184],[ 0.08140286058187485, 2.580949544906616, 9.308655738830566],[ 0.033518824726343155, 2.5713725090026855, 9.394847869873047],[ 0.08619125932455063, 2.5330653190612793, 9.38048267364502],[ 0.09576806426048279, 2.5953147411346436, 9.27034854888916],[ -0.014365210197865963, 2.6001031398773193, 9.289502143859863],[ 0.06224924325942993, 2.604891538619995, 9.346963882446289],[ 0.019153613597154617, 2.5522189140319824, 9.260771751403809],[ 0.028730420395731926, 2.6575639247894287, 9.615114212036133],[ 0.10055647045373917, 2.5953147411346436, 9.490615844726562],[ 0.07182604819536209, 2.557007312774658, 9.428366661071777],[ -0.05267243832349777, 2.5282769203186035, 8.853757858276367],[ 0.10055647045373917, 2.6575639247894287, 9.485827445983887],[ 0.05746084079146385, 2.604891538619995, 9.313444137573242],[ 0, 2.5474305152893066, 9.428366661071777],[ 0.047884032130241394, 2.5522189140319824, 9.524134635925293],[ 0.043095629662275314, 2.5953147411346436, 9.279925346374512],[ 0.07661445438861847, 2.557007312774658, 9.38048267364502],[ 0.06703764945268631, 2.561795711517334, 9.423578262329102],[ 0.09576806426048279, 2.6575639247894287, 9.433155059814453],[ -0.1149216815829277, 2.494758129119873, 9.423578262329102],[ 0, 2.542642116546631, 9.44752025604248],[ 0.08619125932455063, 2.6575639247894287, 9.21288776397705],[ 0, 2.5330653190612793, 9.21288776397705],[ 0.033518824726343155, 2.6001031398773193, 9.452308654785156],[ 0.11013327538967133, 2.561795711517334, 9.385271072387695],[ 0.009576806798577309, 2.557007312774658, 9.466673851013184],[ 0.11013327538967133, 2.557007312774658, 9.552865028381348],[ 0.10055647045373917, 2.585737943649292, 9.418789863586426],[ 0.05267243832349777, 2.585737943649292, 9.495404243469238],[ 0.07182604819536209, 2.5761611461639404, 9.346963882446289],[ 0.1149216815829277, 2.6144683361053467, 9.409213066101074],[ 0.043095629662275314, 2.537853717803955, 9.399636268615723],[ 0.033518824726343155, 2.6144683361053467, 9.428366661071777],[ 0.06703764945268631, 2.5953147411346436, 9.390059471130371],[ 0.06224924325942993, 2.5953147411346436, 9.366117477416992]]"
   ]
  },
  {
   "cell_type": "code",
   "execution_count": 42,
   "metadata": {},
   "outputs": [],
   "source": [
    "import numpy as np"
   ]
  },
  {
   "cell_type": "code",
   "execution_count": 30,
   "metadata": {},
   "outputs": [],
   "source": []
  },
  {
   "cell_type": "code",
   "execution_count": 35,
   "metadata": {},
   "outputs": [
    {
     "data": {
      "text/plain": [
       "(200, 3)"
      ]
     },
     "execution_count": 35,
     "metadata": {},
     "output_type": "execute_result"
    }
   ],
   "source": []
  },
  {
   "cell_type": "code",
   "execution_count": 51,
   "metadata": {},
   "outputs": [],
   "source": [
    "out = np.reshape(inputs_batch,  (1,200,3))"
   ]
  },
  {
   "cell_type": "code",
   "execution_count": 52,
   "metadata": {},
   "outputs": [
    {
     "data": {
      "text/plain": [
       "(1, 200, 3)"
      ]
     },
     "execution_count": 52,
     "metadata": {},
     "output_type": "execute_result"
    }
   ],
   "source": [
    "out.shape"
   ]
  }
 ],
 "metadata": {
  "kernelspec": {
   "display_name": "Python 3",
   "language": "python",
   "name": "python3"
  },
  "language_info": {
   "codemirror_mode": {
    "name": "ipython",
    "version": 3
   },
   "file_extension": ".py",
   "mimetype": "text/x-python",
   "name": "python",
   "nbconvert_exporter": "python",
   "pygments_lexer": "ipython3",
   "version": "3.7.3"
  }
 },
 "nbformat": 4,
 "nbformat_minor": 2
}
